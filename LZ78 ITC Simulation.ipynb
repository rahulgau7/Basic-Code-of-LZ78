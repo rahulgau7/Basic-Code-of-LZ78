{
 "cells": [
  {
   "cell_type": "markdown",
   "metadata": {},
   "source": [
    "# Dynamic Dictionary Coding -LZ78"
   ]
  },
  {
   "cell_type": "markdown",
   "metadata": {},
   "source": [
    "# Focusing on both Encoding as well as Decoding"
   ]
  },
  {
   "cell_type": "markdown",
   "metadata": {},
   "source": [
    "<b>Performed by:</b><br>\n",
    "Amisha Agarwal (J002)<br>\n",
    "Rahul Gautam (J010)<br>\n",
    "Kavish Lapasia (J019)"
   ]
  },
  {
   "cell_type": "code",
   "execution_count": 4,
   "metadata": {},
   "outputs": [],
   "source": [
    "import numpy as np\n"
   ]
  },
  {
   "cell_type": "code",
   "execution_count": 12,
   "metadata": {},
   "outputs": [],
   "source": [
    "def compress(uncompressed):\n",
    "    #\"\"\"Compress a string to a list of output symbols.\"\"\"\n",
    "\n",
    "    # Build the dictionary.\n",
    "    dict_size = 256\n",
    "    dictionary = dict((chr(i), chr(i)) for i in range(dict_size))\n",
    "    # in Python 3: dictionary = {chr(i): chr(i) for i in range(dict_size)}\n",
    "\n",
    "    w = \"\"\n",
    "    result = []\n",
    "    for c in uncompressed:\n",
    "        wc = w + c\n",
    "        if wc in dictionary:\n",
    "            w = wc\n",
    "        else:\n",
    "            result.append(dictionary[w])\n",
    "            # Add wc to the dictionary.\n",
    "            dictionary[wc] = dict_size\n",
    "            dict_size += 1\n",
    "            w = c\n",
    "\n",
    "    # Output the code for w.\n",
    "    if w:\n",
    "        result.append(dictionary[w])\n",
    "    return result\n"
   ]
  },
  {
   "cell_type": "code",
   "execution_count": 17,
   "metadata": {},
   "outputs": [],
   "source": [
    "  def decompress(compressed):\n",
    "    \"\"\"Decompress a list of output ks to a string.\"\"\"\n",
    "    #from cStringIO import StringIO\n",
    "    #from numpy import StringIO\n",
    "    try:\n",
    "        from StringIO import StringIO ## for Python 2\n",
    "    except ImportError:\n",
    "        from io import StringIO \n",
    "    # Build the dictionary.\n",
    "    dict_size = 256\n",
    "    dictionary = dict((chr(i), chr(i)) for i in range(dict_size))\n",
    "    # in Python 3: dictionary = {chr(i): chr(i) for i in range(dict_size)}\n",
    "\n",
    "    # use StringIO, otherwise this becomes O(N^2)\n",
    "    # due to string concatenation in a loop\n",
    "    result = StringIO()\n",
    "    w = compressed.pop(0)\n",
    "    result.write(w)\n",
    "    for k in compressed:\n",
    "        if k in dictionary:\n",
    "            entry = dictionary[k]\n",
    "        elif k == dict_size:\n",
    "            entry = w + w[0]\n",
    "        else:\n",
    "            raise ValueError('Bad compressed k: %s' % k)\n",
    "        result.write(entry)\n",
    "\n",
    "# Add w+entry[0] to the dictionary.\n",
    "        dictionary[dict_size] = w + entry[0]\n",
    "        dict_size += 1\n",
    "\n",
    "        w = entry\n",
    "    return result.getvalue()"
   ]
  },
  {
   "cell_type": "code",
   "execution_count": 20,
   "metadata": {},
   "outputs": [
    {
     "name": "stdout",
     "output_type": "stream",
     "text": [
      "['T', 'O', 'B', 'E', 'O', 'R', 'N', 'O', 'T', 256, 258, 260, 265, 259, 261, 263]\n",
      "TOBEORNOTTOBEORTOBEORNOT\n"
     ]
    }
   ],
   "source": [
    "compressed = compress('TOBEORNOTTOBEORTOBEORNOT')\n",
    "print (compressed)\n",
    "decompressed = decompress(compressed)\n",
    "print (decompressed)"
   ]
  },
  {
   "cell_type": "markdown",
   "metadata": {},
   "source": [
    "# Conclusion:\n",
    "LZ78 algorithm solves the above problem by dropping the reliance on the search buffer and keeping an explicit dictionaryLZ78 algorithms achieve compression by replacing repeated occurrences of data with references to a dictionary that is built based on the input data stream. If a match is found, then last matching index is set to the index of the matching entry, and nothing is output. If a match is not found, then a new dictionary entry is created"
   ]
  },
  {
   "cell_type": "markdown",
   "metadata": {},
   "source": [
    "# Advantages:"
   ]
  },
  {
   "cell_type": "markdown",
   "metadata": {},
   "source": [
    "# Disadvantages:\n",
    "Dictionary keeps growing without bounds"
   ]
  },
  {
   "cell_type": "markdown",
   "metadata": {},
   "source": [
    "# Key differences between LZ78 and LZ77:\n",
    "1) The LZ78 algorithm attempts to work on future data.<br>\n",
    "2) LZ78 is faster than LZ77.<br>\n",
    "3) And the output format of lz78 is pair <i,c>.Where i=index and c=next character.<br>\n",
    "4) Application: Lz78 has various applications in the field of information theory such as random number generation, hypothesis testing, parsing of the string etc.<br>\n",
    "5) LZ78 is used in compress, GIF, CCITT (modems), ARC, PAK"
   ]
  },
  {
   "cell_type": "code",
   "execution_count": null,
   "metadata": {},
   "outputs": [],
   "source": []
  }
 ],
 "metadata": {
  "kernelspec": {
   "display_name": "Python 3",
   "language": "python",
   "name": "python3"
  },
  "language_info": {
   "codemirror_mode": {
    "name": "ipython",
    "version": 3
   },
   "file_extension": ".py",
   "mimetype": "text/x-python",
   "name": "python",
   "nbconvert_exporter": "python",
   "pygments_lexer": "ipython3",
   "version": "3.8.3"
  }
 },
 "nbformat": 4,
 "nbformat_minor": 4
}
